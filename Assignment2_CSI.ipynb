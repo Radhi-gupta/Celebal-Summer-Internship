{
  "nbformat": 4,
  "nbformat_minor": 0,
  "metadata": {
    "colab": {
      "provenance": []
    },
    "kernelspec": {
      "name": "python3",
      "display_name": "Python 3"
    },
    "language_info": {
      "name": "python"
    }
  },
  "cells": [
    {
      "cell_type": "markdown",
      "source": [
        "#Assignment2 - CSI"
      ],
      "metadata": {
        "id": "HZNS9FZfvMqf"
      }
    },
    {
      "cell_type": "code",
      "source": [
        "# Simple Calculator\n",
        "def add(n1,n2):\n",
        "  return n1+n2\n",
        "\n",
        "def subtract(n1,n2):\n",
        "  return n1-n2\n",
        "\n",
        "def multiply(n1,n2):\n",
        "  return n1*n2\n",
        "\n",
        "def divide(n1,n2):\n",
        "  return n1/n2"
      ],
      "metadata": {
        "id": "ljWUY78XvXXm"
      },
      "execution_count": null,
      "outputs": []
    },
    {
      "cell_type": "code",
      "source": [
        "def calculator():\n",
        "  print(\"Select operation you want to perform\")\n",
        "  print(\"1. Add \\n 2. Subtract \\n 3. Multiply \\n 4. Divide\")\n",
        "\n",
        "  while True:\n",
        "    choice = input(\"Enter choice(1/2/3/4): \")\n",
        "    if choice in ('1','2','3','4'):\n",
        "      num1 = float(input(\"Enter first number: \"))\n",
        "      num2 = float(input(\"Enter second number: \"))\n",
        "\n",
        "      if choice == '1':\n",
        "        print(num1, \"+\", num2, \"=\", add(num1,num2))\n",
        "      elif choice == '2':\n",
        "        print(num1, \"-\", num2, \"=\", subtract(num1,num2))\n",
        "      elif chice == '3':\n",
        "        print(num1,\"x\",num2,\"=\",multiply(num1,num2))\n",
        "      elif choice == '4':\n",
        "        print(num1,\"/\",num2,\"=\",divide(num1,num2))\n",
        "      break\n",
        "    else:\n",
        "      print(\"Invalid Input\")\n",
        "\n"
      ],
      "metadata": {
        "id": "ySsS2UxIN-gR"
      },
      "execution_count": null,
      "outputs": []
    },
    {
      "cell_type": "code",
      "source": [
        "if __name__ == \"__main__\":\n",
        "  calculator()"
      ],
      "metadata": {
        "colab": {
          "base_uri": "https://localhost:8080/"
        },
        "id": "PpYOJrRNPunx",
        "outputId": "8ce26c0c-ddda-4285-b2e5-0ffdccc96155"
      },
      "execution_count": null,
      "outputs": [
        {
          "output_type": "stream",
          "name": "stdout",
          "text": [
            "Select operation you want to perform\n",
            "1. Add \n",
            " 2. Subtract \n",
            " 3. Multiply \n",
            " 4. Divide\n",
            "Enter choice(1/2/3/4): 2\n",
            "Enter first number: 5756\n",
            "Enter second number: 8765\n",
            "5756.0 - 8765.0 = -3009.0\n"
          ]
        }
      ]
    },
    {
      "cell_type": "code",
      "source": [],
      "metadata": {
        "id": "mMJXhxvAP286"
      },
      "execution_count": null,
      "outputs": []
    }
  ]
}