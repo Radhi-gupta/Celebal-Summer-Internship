{
  "nbformat": 4,
  "nbformat_minor": 0,
  "metadata": {
    "colab": {
      "provenance": []
    },
    "kernelspec": {
      "name": "python3",
      "display_name": "Python 3"
    },
    "language_info": {
      "name": "python"
    }
  },
  "cells": [
    {
      "cell_type": "markdown",
      "source": [
        "#Assignment 1 - CSI"
      ],
      "metadata": {
        "id": "603P-whKSIvZ"
      }
    },
    {
      "cell_type": "code",
      "source": [
        "def lower_triangle(n):\n",
        "  for i in range(n):\n",
        "    for j in range(i+1):\n",
        "      print(\"*\", end=\" \")\n",
        "    print()\n",
        "\n",
        "n = int(input(\"Enter the number of rows: \"))\n",
        "lower_triangle(n)"
      ],
      "metadata": {
        "colab": {
          "base_uri": "https://localhost:8080/"
        },
        "id": "X-yxI5l8ST-J",
        "outputId": "79002a38-5096-40c2-88da-40d2cf4b09f5"
      },
      "execution_count": null,
      "outputs": [
        {
          "output_type": "stream",
          "name": "stdout",
          "text": [
            "Enter the number of rows: 7\n",
            "* \n",
            "* * \n",
            "* * * \n",
            "* * * * \n",
            "* * * * * \n",
            "* * * * * * \n",
            "* * * * * * * \n"
          ]
        }
      ]
    },
    {
      "cell_type": "code",
      "source": [
        "def upper_triangle(n):\n",
        "  for i in range(n):\n",
        "    for j in range(n-i):\n",
        "      print(\"*\", end=\" \")\n",
        "    print()\n",
        "\n",
        "n = int(input(\"Enter the number of rows: \"))\n",
        "upper_triangle(n)"
      ],
      "metadata": {
        "colab": {
          "base_uri": "https://localhost:8080/"
        },
        "id": "rO2j_vtueg-v",
        "outputId": "4a1fff2d-3d51-462f-f317-7080b44c3dcc"
      },
      "execution_count": null,
      "outputs": [
        {
          "output_type": "stream",
          "name": "stdout",
          "text": [
            "Enter the number of rows: 7\n",
            "* * * * * * * \n",
            "* * * * * * \n",
            "* * * * * \n",
            "* * * * \n",
            "* * * \n",
            "* * \n",
            "* \n"
          ]
        }
      ]
    },
    {
      "cell_type": "code",
      "source": [
        "def pyramid(n):\n",
        "  for i in range(n):\n",
        "    for j in range(n-i-1):\n",
        "      print(\" \", end=\" \")\n",
        "    for j in range(2*i+1):\n",
        "      print(\"*\", end=\" \")\n",
        "    print()\n",
        "n = int(input(\"Enter no. of rows : \"))\n",
        "pyramid(n)"
      ],
      "metadata": {
        "colab": {
          "base_uri": "https://localhost:8080/"
        },
        "id": "qpkLMNmoezBU",
        "outputId": "47cda68e-b9d9-45f3-acf2-d8158155183b"
      },
      "execution_count": null,
      "outputs": [
        {
          "output_type": "stream",
          "name": "stdout",
          "text": [
            "Enter no. of rows : 5\n",
            "        * \n",
            "      * * * \n",
            "    * * * * * \n",
            "  * * * * * * * \n",
            "* * * * * * * * * \n"
          ]
        }
      ]
    },
    {
      "cell_type": "code",
      "source": [],
      "metadata": {
        "id": "aeO5o9HDfG-q"
      },
      "execution_count": null,
      "outputs": []
    }
  ]
}